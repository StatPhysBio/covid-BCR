{
 "cells": [
  {
   "cell_type": "code",
   "execution_count": 1,
   "metadata": {},
   "outputs": [],
   "source": [
    "import glob\n",
    "from Bio.SeqIO import parse\n",
    "import pandas as pd\n",
    "import numpy as np\n",
    "import matplotlib.pyplot as plt\n",
    "import seaborn as sns\n",
    "from jellyfish import hamming_distance"
   ]
  },
  {
   "cell_type": "markdown",
   "metadata": {},
   "source": [
    "Prototyping error correction methods\n",
    "===\n",
    "\n",
    "Load sequence data\n",
    "---\n",
    "\n",
    "Directory containing `fastq` files:"
   ]
  },
  {
   "cell_type": "code",
   "execution_count": 2,
   "metadata": {},
   "outputs": [],
   "source": [
    "data_dir = '/Users/williamdewitt/Downloads'"
   ]
  },
  {
   "cell_type": "markdown",
   "metadata": {},
   "source": [
    "List of `collapse-unique.fastq` files (one per sample)"
   ]
  },
  {
   "cell_type": "code",
   "execution_count": 3,
   "metadata": {},
   "outputs": [
    {
     "data": {
      "text/plain": [
       "['/Users/williamdewitt/Downloads/unique_P1_collapse-unique.fastq']"
      ]
     },
     "execution_count": 3,
     "metadata": {},
     "output_type": "execute_result"
    }
   ],
   "source": [
    "files = glob.glob(f'{data_dir}/unique_*_collapse-unique.fastq')\n",
    "files"
   ]
  },
  {
   "cell_type": "markdown",
   "metadata": {},
   "source": [
    "Using just one sample, parse into a `pandas.DataFrame` with sequence and abundance columns"
   ]
  },
  {
   "cell_type": "code",
   "execution_count": 4,
   "metadata": {},
   "outputs": [
    {
     "data": {
      "text/html": [
       "<div>\n",
       "<style scoped>\n",
       "    .dataframe tbody tr th:only-of-type {\n",
       "        vertical-align: middle;\n",
       "    }\n",
       "\n",
       "    .dataframe tbody tr th {\n",
       "        vertical-align: top;\n",
       "    }\n",
       "\n",
       "    .dataframe thead th {\n",
       "        text-align: right;\n",
       "    }\n",
       "</style>\n",
       "<table border=\"1\" class=\"dataframe\">\n",
       "  <thead>\n",
       "    <tr style=\"text-align: right;\">\n",
       "      <th></th>\n",
       "      <th>abundance</th>\n",
       "      <th>sequence</th>\n",
       "    </tr>\n",
       "  </thead>\n",
       "  <tbody>\n",
       "    <tr>\n",
       "      <th>0</th>\n",
       "      <td>10804</td>\n",
       "      <td>NNNNNNNNNNNNNNNNNNNNNNNNACTGTCTCTGGTGCCTACATCA...</td>\n",
       "    </tr>\n",
       "    <tr>\n",
       "      <th>1</th>\n",
       "      <td>8855</td>\n",
       "      <td>NNNNNNNNNNNNNNNNNNNNNNNNTCTCTAGCAACGATGCTACTTG...</td>\n",
       "    </tr>\n",
       "    <tr>\n",
       "      <th>2</th>\n",
       "      <td>8164</td>\n",
       "      <td>NNNNNNNNNNNNNNNNNNNNNNNNGACCCTCACGCTGACCTGCAAT...</td>\n",
       "    </tr>\n",
       "    <tr>\n",
       "      <th>3</th>\n",
       "      <td>7887</td>\n",
       "      <td>NNNNNNNNNNNNNNNNNNNNNNNNACTGTCTCTGGTGGCTCCATCA...</td>\n",
       "    </tr>\n",
       "    <tr>\n",
       "      <th>4</th>\n",
       "      <td>7232</td>\n",
       "      <td>NNNNNNNNNNNNNNNNNNNNNNNNACTGTCTCTGGTGCCTCCATCA...</td>\n",
       "    </tr>\n",
       "    <tr>\n",
       "      <th>...</th>\n",
       "      <td>...</td>\n",
       "      <td>...</td>\n",
       "    </tr>\n",
       "    <tr>\n",
       "      <th>296894</th>\n",
       "      <td>1</td>\n",
       "      <td>NNNNNNNNNNNNNNNNNNNNNAAAGCCCGGGGAGTCTCTGAAGATC...</td>\n",
       "    </tr>\n",
       "    <tr>\n",
       "      <th>296895</th>\n",
       "      <td>1</td>\n",
       "      <td>NNNNNNNNNNNNNNNNNNNNNAAAGCCCGGGGAGTCTCTGAAGATC...</td>\n",
       "    </tr>\n",
       "    <tr>\n",
       "      <th>296896</th>\n",
       "      <td>1</td>\n",
       "      <td>NNNNNNNNNNNNNNNNNNNNNAAACCCGGGGAGTCTCTGAAGATCT...</td>\n",
       "    </tr>\n",
       "    <tr>\n",
       "      <th>296897</th>\n",
       "      <td>1</td>\n",
       "      <td>NNNNNNNNNNNNNNNNNNNNNAAACCCGGGGAGTCTCTGAAGATCT...</td>\n",
       "    </tr>\n",
       "    <tr>\n",
       "      <th>296898</th>\n",
       "      <td>1</td>\n",
       "      <td>NNNNNNNNNNNNNNNNNNNNNAAACCCGGGGAGTCTCTGAAAATCT...</td>\n",
       "    </tr>\n",
       "  </tbody>\n",
       "</table>\n",
       "<p>296899 rows × 2 columns</p>\n",
       "</div>"
      ],
      "text/plain": [
       "        abundance                                           sequence\n",
       "0           10804  NNNNNNNNNNNNNNNNNNNNNNNNACTGTCTCTGGTGCCTACATCA...\n",
       "1            8855  NNNNNNNNNNNNNNNNNNNNNNNNTCTCTAGCAACGATGCTACTTG...\n",
       "2            8164  NNNNNNNNNNNNNNNNNNNNNNNNGACCCTCACGCTGACCTGCAAT...\n",
       "3            7887  NNNNNNNNNNNNNNNNNNNNNNNNACTGTCTCTGGTGGCTCCATCA...\n",
       "4            7232  NNNNNNNNNNNNNNNNNNNNNNNNACTGTCTCTGGTGCCTCCATCA...\n",
       "...           ...                                                ...\n",
       "296894          1  NNNNNNNNNNNNNNNNNNNNNAAAGCCCGGGGAGTCTCTGAAGATC...\n",
       "296895          1  NNNNNNNNNNNNNNNNNNNNNAAAGCCCGGGGAGTCTCTGAAGATC...\n",
       "296896          1  NNNNNNNNNNNNNNNNNNNNNAAACCCGGGGAGTCTCTGAAGATCT...\n",
       "296897          1  NNNNNNNNNNNNNNNNNNNNNAAACCCGGGGAGTCTCTGAAGATCT...\n",
       "296898          1  NNNNNNNNNNNNNNNNNNNNNAAACCCGGGGAGTCTCTGAAAATCT...\n",
       "\n",
       "[296899 rows x 2 columns]"
      ]
     },
     "execution_count": 4,
     "metadata": {},
     "output_type": "execute_result"
    }
   ],
   "source": [
    "df = pd.DataFrame(sorted([(int(seq.id.split('|')[3].split('=')[1]), str(seq.seq))\n",
    "                          for seq in parse(files[0], 'fastq')], reverse=True),\n",
    "                  columns=('abundance', 'sequence'))\n",
    "df"
   ]
  },
  {
   "cell_type": "markdown",
   "metadata": {},
   "source": [
    "Abundance distribution\n",
    "---"
   ]
  },
  {
   "cell_type": "code",
   "execution_count": 5,
   "metadata": {
    "scrolled": true
   },
   "outputs": [
    {
     "data": {
      "image/png": "[encoded data removed]",
      "text/plain": [
       "<Figure size 432x288 with 1 Axes>"
      ]
     },
     "metadata": {
      "needs_background": "light"
     },
     "output_type": "display_data"
    }
   ],
   "source": [
    "sns.distplot(df.abundance, kde=False,\n",
    "             bins=np.logspace(0, np.log10(df.abundance.max()), 50))\n",
    "plt.xscale('log')\n",
    "plt.yscale('log')\n",
    "plt.show()"
   ]
  },
  {
   "cell_type": "markdown",
   "metadata": {},
   "source": [
    "Correct singletons\n",
    "---"
   ]
  },
  {
   "cell_type": "code",
   "execution_count": null,
   "metadata": {},
   "outputs": [
    {
     "name": "stdout",
     "output_type": "stream",
     "text": [
      "putative parent sequence 91 of 188, 93.69% of singletons remaining                                                                                                                                                                                                                                                                                                                                                                                                                                                                                                                                                                                                                                                                                                                                                                                                                                                                                                                                                                                                                                                                                                                                                                                                                                                                                                                                                                                                                                                                                                                                                                                                                                                                                                                                                                                                                                                                                                                                                                                                                                                                                                                                                                                                                                                                                                                                                                                                                                                                                                                                                                                                                                                                                                                                                                                                                                                                                                                                                                                                                                                                                                                                                                                                                                                                                                                                                                                                                                                                                                                                                                                                                                                                                                                                                                                                                                                                                                                                                                                                                                                                                                                                                                                                                                                                                                                                                                                                                                                                                                                                                                                                                                                                                                                                                                                                                                                                                                                                                                                                                                                                                                                                                                                                                                                                                                                                                                                                                                                                                                                                                                                                                                                                                                                                                                                                                                                                                                                                                                                                                                                                                                                                                                                                                                                                                                                                                                        "
     ]
    }
   ],
   "source": [
    "abundance_threshold = 100\n",
    "distance_threshold = 1\n",
    "\n",
    "singletons = (df.abundance == 1)\n",
    "putative_parent_idxs = df.index[df.abundance >= abundance_threshold]\n",
    "\n",
    "n_singletons = len(singletons)\n",
    "n_singletons_remaining = n_singletons\n",
    "\n",
    "for ct, i in enumerate(putative_parent_idxs, 1):\n",
    "    if df.abundance[i] < abundance_threshold:\n",
    "        break\n",
    "    for j in df.index[singletons]:\n",
    "        if len(df.sequence[i]) != len(df.sequence[j]):\n",
    "            continue\n",
    "        if hamming_distance(df.sequence[i], df.sequence[j]) <= distance_threshold:\n",
    "            df.loc[i, 'abundance'] += df.abundance[j]\n",
    "            df.loc[j, 'abundance'] = 0\n",
    "            singletons[j] = False\n",
    "            n_singletons_remaining -= 1\n",
    "        print(f'putative parent sequence {ct} of {len(putative_parent_idxs)}, {n_singletons_remaining / n_singletons:.2%} of singletons remaining', end='    \\r')"
   ]
  },
  {
   "cell_type": "markdown",
   "metadata": {},
   "source": [
    "TODO: Abundance distribution after singleton correction\n",
    "---"
   ]
  },
  {
   "cell_type": "code",
   "execution_count": null,
   "metadata": {},
   "outputs": [],
   "source": []
  }
 ],
 "metadata": {
  "kernelspec": {
   "display_name": "Python 3",
   "language": "python",
   "name": "python3"
  },
  "language_info": {
   "codemirror_mode": {
    "name": "ipython",
    "version": 3
   },
   "file_extension": ".py",
   "mimetype": "text/x-python",
   "name": "python",
   "nbconvert_exporter": "python",
   "pygments_lexer": "ipython3",
   "version": "3.7.6"
  }
 },
 "nbformat": 4,
 "nbformat_minor": 4
}
