{
 "cells": [
  {
   "cell_type": "code",
   "execution_count": 1,
   "metadata": {},
   "outputs": [],
   "source": [
    "import glob\n",
    "from Bio.SeqIO import parse\n",
    "import pandas as pd\n",
    "import numpy as np\n",
    "import matplotlib.pyplot as plt\n",
    "import seaborn as sns\n",
    "from typing import Tuple\n",
    "from jellyfish import hamming_distance"
   ]
  },
  {
   "cell_type": "markdown",
   "metadata": {},
   "source": [
    "Prototyping error correction methods\n",
    "===\n",
    "\n",
    "Load sequence data\n",
    "---\n",
    "\n",
    "Directory containing `fastq` files:"
   ]
  },
  {
   "cell_type": "code",
   "execution_count": 2,
   "metadata": {},
   "outputs": [],
   "source": [
    "data_dir = '/Users/williamdewitt/Downloads'"
   ]
  },
  {
   "cell_type": "markdown",
   "metadata": {},
   "source": [
    "List of `collapse-unique.fastq` files (one per sample)"
   ]
  },
  {
   "cell_type": "code",
   "execution_count": 3,
   "metadata": {},
   "outputs": [
    {
     "data": {
      "text/plain": [
       "['/Users/williamdewitt/Downloads/unique_P1_collapse-unique.fastq']"
      ]
     },
     "execution_count": 3,
     "metadata": {},
     "output_type": "execute_result"
    }
   ],
   "source": [
    "files = glob.glob(f'{data_dir}/unique_*_collapse-unique.fastq')\n",
    "files"
   ]
  },
  {
   "cell_type": "markdown",
   "metadata": {},
   "source": [
    "Using just one sample, parse into a `pandas.DataFrame` with sequence and abundance columns"
   ]
  },
  {
   "cell_type": "code",
   "execution_count": 4,
   "metadata": {},
   "outputs": [
    {
     "data": {
      "text/html": [
       "<div>\n",
       "<style scoped>\n",
       "    .dataframe tbody tr th:only-of-type {\n",
       "        vertical-align: middle;\n",
       "    }\n",
       "\n",
       "    .dataframe tbody tr th {\n",
       "        vertical-align: top;\n",
       "    }\n",
       "\n",
       "    .dataframe thead th {\n",
       "        text-align: right;\n",
       "    }\n",
       "</style>\n",
       "<table border=\"1\" class=\"dataframe\">\n",
       "  <thead>\n",
       "    <tr style=\"text-align: right;\">\n",
       "      <th></th>\n",
       "      <th>sequence</th>\n",
       "      <th>abundance</th>\n",
       "    </tr>\n",
       "  </thead>\n",
       "  <tbody>\n",
       "    <tr>\n",
       "      <th>0</th>\n",
       "      <td>NNNNNNNNNNNNNNNNNNNNNNNGCCTCTGGATTCACCTTCAGTAG...</td>\n",
       "      <td>1</td>\n",
       "    </tr>\n",
       "    <tr>\n",
       "      <th>1</th>\n",
       "      <td>NNNNNNNNNNNNNNNNNNNNNNNNGACATCTACGTTGATTCTTTCA...</td>\n",
       "      <td>1965</td>\n",
       "    </tr>\n",
       "    <tr>\n",
       "      <th>2</th>\n",
       "      <td>NNNNNNNNNNNNNNNNNNNNNNNNGCTGTCTATGGTGGGTCCTTCA...</td>\n",
       "      <td>2037</td>\n",
       "    </tr>\n",
       "    <tr>\n",
       "      <th>3</th>\n",
       "      <td>NNNNNNNNNNNNNNNNNNNNNNNNGACCCTCACGCTGACCTGCACC...</td>\n",
       "      <td>1</td>\n",
       "    </tr>\n",
       "    <tr>\n",
       "      <th>4</th>\n",
       "      <td>NNNNNNNNNNNNNNNNNNNNNNNNATTGTCTCTAGTGGCTCCATCA...</td>\n",
       "      <td>1</td>\n",
       "    </tr>\n",
       "    <tr>\n",
       "      <th>...</th>\n",
       "      <td>...</td>\n",
       "      <td>...</td>\n",
       "    </tr>\n",
       "    <tr>\n",
       "      <th>296894</th>\n",
       "      <td>NNNNNNNNNNNNNNNNNNNNNNNNTCTCTAGCAACGGTGCTACTTG...</td>\n",
       "      <td>1</td>\n",
       "    </tr>\n",
       "    <tr>\n",
       "      <th>296895</th>\n",
       "      <td>NNNNNNNNNNNNNNNNNNNNNNNNAGTGTCTCTGGTGGCTCTGTCA...</td>\n",
       "      <td>1</td>\n",
       "    </tr>\n",
       "    <tr>\n",
       "      <th>296896</th>\n",
       "      <td>NNNNNNNNNNNNNNNNNNNNNNNGCCTCTGGATTCGCCTTTAGCAC...</td>\n",
       "      <td>1</td>\n",
       "    </tr>\n",
       "    <tr>\n",
       "      <th>296897</th>\n",
       "      <td>NNNNNNNNNNNNNNNNNNNNNNNNACTGTCTCTGGTGGCTCCATCA...</td>\n",
       "      <td>1</td>\n",
       "    </tr>\n",
       "    <tr>\n",
       "      <th>296898</th>\n",
       "      <td>NNNNNNNNNNNNNNNNNNNNNNNGTCTCAACATCCACTTTTAGACC...</td>\n",
       "      <td>1</td>\n",
       "    </tr>\n",
       "  </tbody>\n",
       "</table>\n",
       "<p>296899 rows × 2 columns</p>\n",
       "</div>"
      ],
      "text/plain": [
       "                                                 sequence  abundance\n",
       "0       NNNNNNNNNNNNNNNNNNNNNNNGCCTCTGGATTCACCTTCAGTAG...          1\n",
       "1       NNNNNNNNNNNNNNNNNNNNNNNNGACATCTACGTTGATTCTTTCA...       1965\n",
       "2       NNNNNNNNNNNNNNNNNNNNNNNNGCTGTCTATGGTGGGTCCTTCA...       2037\n",
       "3       NNNNNNNNNNNNNNNNNNNNNNNNGACCCTCACGCTGACCTGCACC...          1\n",
       "4       NNNNNNNNNNNNNNNNNNNNNNNNATTGTCTCTAGTGGCTCCATCA...          1\n",
       "...                                                   ...        ...\n",
       "296894  NNNNNNNNNNNNNNNNNNNNNNNNTCTCTAGCAACGGTGCTACTTG...          1\n",
       "296895  NNNNNNNNNNNNNNNNNNNNNNNNAGTGTCTCTGGTGGCTCTGTCA...          1\n",
       "296896  NNNNNNNNNNNNNNNNNNNNNNNGCCTCTGGATTCGCCTTTAGCAC...          1\n",
       "296897  NNNNNNNNNNNNNNNNNNNNNNNNACTGTCTCTGGTGGCTCCATCA...          1\n",
       "296898  NNNNNNNNNNNNNNNNNNNNNNNGTCTCAACATCCACTTTTAGACC...          1\n",
       "\n",
       "[296899 rows x 2 columns]"
      ]
     },
     "execution_count": 4,
     "metadata": {},
     "output_type": "execute_result"
    }
   ],
   "source": [
    "df = pd.DataFrame([(str(seq.seq), int(seq.id.split('|')[3].split('=')[1]))\n",
    "                    for seq in parse(files[0], 'fastq')],\n",
    "                  columns=('sequence', 'abundance'))\n",
    "df"
   ]
  },
  {
   "cell_type": "markdown",
   "metadata": {},
   "source": [
    "Abundance distribution\n",
    "---"
   ]
  },
  {
   "cell_type": "code",
   "execution_count": 5,
   "metadata": {
    "scrolled": true
   },
   "outputs": [
    {
     "data": {
      "image/png": "[encoded data removed]",
      "text/plain": [
       "<Figure size 432x288 with 1 Axes>"
      ]
     },
     "metadata": {
      "needs_background": "light"
     },
     "output_type": "display_data"
    }
   ],
   "source": [
    "bins = np.logspace(0, np.log10(df.abundance.max()), 50)\n",
    "sns.distplot(df.abundance, kde=False, bins=bins)\n",
    "plt.xscale('log')\n",
    "plt.yscale('log')\n",
    "plt.show()"
   ]
  },
  {
   "cell_type": "markdown",
   "metadata": {},
   "source": [
    "Error correction based on Hamming distance and relative abundance\n",
    "---"
   ]
  },
  {
   "cell_type": "code",
   "execution_count": 6,
   "metadata": {},
   "outputs": [],
   "source": [
    "def correct(df: pd.DataFrame,\n",
    "            abundance_ratio_threshold: np.float32 = 1000,\n",
    "            distance_threshold: np.float32 = 1,\n",
    "            passes: int = 1, this_pass=1) -> Tuple[np.ndarray, np.ndarray]:\n",
    "    \n",
    "    print(f'error correction pass {this_pass}')\n",
    "    \n",
    "    df.sort_values(by='abundance', ascending=False, inplace=True)\n",
    "    \n",
    "    sequences = np.copy(df.sequence.values)\n",
    "    abundances =  np.copy(df.abundance.values)\n",
    "    \n",
    "    unclustered = (abundances > 0)\n",
    "    n_clustered = 0\n",
    "    parent_idxs = np.where(df.abundance >= abundance_ratio_threshold)[0]\n",
    "\n",
    "    for ct, i in enumerate(parent_idxs, 1):\n",
    "        for j in i + 1 + np.where(unclustered[(i + 1):])[0]:\n",
    "            abundance_ratio = abundances[i] / abundances[j]\n",
    "            if (abundance_ratio > abundance_ratio_threshold \n",
    "                and len(sequences[i]) == len(sequences[j]) \n",
    "                and hamming_distance(sequences[i], sequences[j]) <= distance_threshold):\n",
    "                abundances[i] += abundances[j]\n",
    "                abundances[j] = 0\n",
    "                unclustered[j] = False\n",
    "                n_clustered += 1\n",
    "        print(f'    parent sequence {ct} of {len(parent_idxs)}, {n_clustered} sequences clustered', end='    \\r')\n",
    "    print()\n",
    "            \n",
    "    nonzero_idxs = (abundances > 0)\n",
    "    sequences = sequences[nonzero_idxs]\n",
    "    abundances = abundances[nonzero_idxs]\n",
    "    df_new = pd.DataFrame(np.array([sequences, abundances]).T,\n",
    "                          columns=('sequence', 'abundance'))\n",
    "    df_new.sort_values(by='abundance', ascending=False, inplace=True)\n",
    "\n",
    "    if passes == 1:\n",
    "        return df_new\n",
    "    else:\n",
    "        return correct(df_new,\n",
    "                       abundance_ratio_threshold, distance_threshold,\n",
    "                       passes - 1, this_pass + 1)"
   ]
  },
  {
   "cell_type": "code",
   "execution_count": 13,
   "metadata": {},
   "outputs": [
    {
     "name": "stdout",
     "output_type": "stream",
     "text": [
      "error correction pass 1\n",
      "    parent sequence 188 of 188, 217860 sequences clustered    \n",
      "error correction pass 2\n",
      "    parent sequence 188 of 188, 1057 sequences clustered      \n",
      "error correction pass 3\n",
      "    parent sequence 174 of 174, 18 sequences clustered    \n"
     ]
    }
   ],
   "source": [
    "df_corrected = correct(df, abundance_ratio_threshold=100, distance_threshold=5, passes=3)"
   ]
  },
  {
   "cell_type": "markdown",
   "metadata": {},
   "source": [
    "Abundance distribution before and after error correction\n",
    "---"
   ]
  },
  {
   "cell_type": "code",
   "execution_count": 15,
   "metadata": {},
   "outputs": [
    {
     "name": "stdout",
     "output_type": "stream",
     "text": [
      "unique sequences before error correction: 296899\n",
      "unique sequences after error correction: 77964\n",
      "singleton composition before error correction: 41.66%\n",
      "singleton composition after error correction: 12.03%\n"
     ]
    },
    {
     "data": {
      "image/png": "[encoded data removed]",
      "text/plain": [
       "<Figure size 432x288 with 1 Axes>"
      ]
     },
     "metadata": {
      "needs_background": "light"
     },
     "output_type": "display_data"
    }
   ],
   "source": [
    "print(f'unique sequences before error correction: {len(df)}')\n",
    "print(f'unique sequences after error correction: {len(df_corrected)}')\n",
    "print(f'singleton composition before error correction: {df.abundance[df.abundance == 1].sum() / df.abundance.sum():.2%}')\n",
    "print(f'singleton composition after error correction: {df_corrected.abundance[df_corrected.abundance == 1].sum() / df_corrected.abundance.sum():.2%}')\n",
    "sns.distplot(df.abundance, kde=False, bins=bins, label='uncorrected')\n",
    "sns.distplot(df_corrected.abundance, kde=False, bins=bins, label='corrected')\n",
    "plt.xscale('log')\n",
    "plt.yscale('symlog')\n",
    "plt.legend()\n",
    "plt.show()"
   ]
  },
  {
   "cell_type": "code",
   "execution_count": null,
   "metadata": {},
   "outputs": [],
   "source": []
  }
 ],
 "metadata": {
  "kernelspec": {
   "display_name": "Python 3",
   "language": "python",
   "name": "python3"
  },
  "language_info": {
   "codemirror_mode": {
    "name": "ipython",
    "version": 3
   },
   "file_extension": ".py",
   "mimetype": "text/x-python",
   "name": "python",
   "nbconvert_exporter": "python",
   "pygments_lexer": "ipython3",
   "version": "3.7.6"
  }
 },
 "nbformat": 4,
 "nbformat_minor": 4
}
