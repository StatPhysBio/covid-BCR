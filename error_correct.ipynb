{
 "cells": [
  {
   "cell_type": "code",
   "execution_count": 1,
   "metadata": {},
   "outputs": [],
   "source": [
    "import glob\n",
    "from Bio.SeqIO import parse\n",
    "import pandas as pd\n",
    "import numpy as np\n",
    "import matplotlib.pyplot as plt\n",
    "import seaborn as sns\n",
    "from typing import Tuple\n",
    "from jellyfish import hamming_distance"
   ]
  },
  {
   "cell_type": "markdown",
   "metadata": {},
   "source": [
    "Prototyping error correction methods\n",
    "===\n",
    "\n",
    "Load sequence data\n",
    "---\n",
    "\n",
    "Directory containing `fastq` files:"
   ]
  },
  {
   "cell_type": "code",
   "execution_count": 2,
   "metadata": {},
   "outputs": [],
   "source": [
    "data_dir = '/Users/williamdewitt/Downloads'"
   ]
  },
  {
   "cell_type": "markdown",
   "metadata": {},
   "source": [
    "List of `collapse-unique.fastq` files (one per sample)"
   ]
  },
  {
   "cell_type": "code",
   "execution_count": 3,
   "metadata": {},
   "outputs": [
    {
     "data": {
      "text/plain": [
       "['/Users/williamdewitt/Downloads/S1_collapse-unique.fasta']"
      ]
     },
     "execution_count": 3,
     "metadata": {},
     "output_type": "execute_result"
    }
   ],
   "source": [
    "files = glob.glob(f'{data_dir}/*_collapse-unique.fasta')\n",
    "files"
   ]
  },
  {
   "cell_type": "markdown",
   "metadata": {},
   "source": [
    "Using just one sample, parse into a `pandas.DataFrame` with sequence and abundance columns"
   ]
  },
  {
   "cell_type": "code",
   "execution_count": 4,
   "metadata": {},
   "outputs": [
    {
     "data": {
      "text/html": [
       "<div>\n",
       "<style scoped>\n",
       "    .dataframe tbody tr th:only-of-type {\n",
       "        vertical-align: middle;\n",
       "    }\n",
       "\n",
       "    .dataframe tbody tr th {\n",
       "        vertical-align: top;\n",
       "    }\n",
       "\n",
       "    .dataframe thead th {\n",
       "        text-align: right;\n",
       "    }\n",
       "</style>\n",
       "<table border=\"1\" class=\"dataframe\">\n",
       "  <thead>\n",
       "    <tr style=\"text-align: right;\">\n",
       "      <th></th>\n",
       "      <th>sequence</th>\n",
       "      <th>C primer</th>\n",
       "      <th>V primer</th>\n",
       "      <th>abundance</th>\n",
       "      <th>length</th>\n",
       "    </tr>\n",
       "  </thead>\n",
       "  <tbody>\n",
       "    <tr>\n",
       "      <th>0</th>\n",
       "      <td>NNNNNNNNNNNNNNNNNNNNNNNNAGTGTCTCTGGTGGCTCCGTCA...</td>\n",
       "      <td>CHG-R</td>\n",
       "      <td>IGHV4-F</td>\n",
       "      <td>1</td>\n",
       "      <td>420</td>\n",
       "    </tr>\n",
       "    <tr>\n",
       "      <th>1</th>\n",
       "      <td>NNNNNNNNNNNNNNNNNNNNNNNNGACATCTACGTTGATTCTTTCA...</td>\n",
       "      <td>CHG-R</td>\n",
       "      <td>IGHV4-F</td>\n",
       "      <td>1965</td>\n",
       "      <td>435</td>\n",
       "    </tr>\n",
       "    <tr>\n",
       "      <th>2</th>\n",
       "      <td>NNNNNNNNNNNNNNNNNNNNNNNNAGTGTCTCTGGTGCTTCCATCA...</td>\n",
       "      <td>CHG-R</td>\n",
       "      <td>IGHV4-F</td>\n",
       "      <td>1</td>\n",
       "      <td>428</td>\n",
       "    </tr>\n",
       "    <tr>\n",
       "      <th>3</th>\n",
       "      <td>NNNNNNNNNNNNNNNNNNNNNNNNGCTGTCTATGGTGGGTCCTTCA...</td>\n",
       "      <td>CHG-R</td>\n",
       "      <td>IGHV4-F</td>\n",
       "      <td>2037</td>\n",
       "      <td>459</td>\n",
       "    </tr>\n",
       "    <tr>\n",
       "      <th>4</th>\n",
       "      <td>NNNNNNNNNNNNNNNNNNNNNNNNAATGTCTCTGGTGGCGCCATCA...</td>\n",
       "      <td>CHG-R</td>\n",
       "      <td>IGHV4-F</td>\n",
       "      <td>2992</td>\n",
       "      <td>456</td>\n",
       "    </tr>\n",
       "    <tr>\n",
       "      <th>...</th>\n",
       "      <td>...</td>\n",
       "      <td>...</td>\n",
       "      <td>...</td>\n",
       "      <td>...</td>\n",
       "      <td>...</td>\n",
       "    </tr>\n",
       "    <tr>\n",
       "      <th>296894</th>\n",
       "      <td>NNNNNNNNNNNNNNNNNNNNNNNGCCTCTGGGTTCACCGTCAGTAG...</td>\n",
       "      <td>CHG-R</td>\n",
       "      <td>IGHV3-F</td>\n",
       "      <td>1</td>\n",
       "      <td>428</td>\n",
       "    </tr>\n",
       "    <tr>\n",
       "      <th>296895</th>\n",
       "      <td>NNNNNNNNNNNNNNNNNNNNNNNGCCTCTGGATTCACCTTCAGTAA...</td>\n",
       "      <td>CHG-R</td>\n",
       "      <td>IGHV3-F</td>\n",
       "      <td>1</td>\n",
       "      <td>425</td>\n",
       "    </tr>\n",
       "    <tr>\n",
       "      <th>296896</th>\n",
       "      <td>NNNNNNNNNNNNNNNNNNNNNNNNACTGTCTCTGGTGGCTCCATCA...</td>\n",
       "      <td>CHG-R</td>\n",
       "      <td>IGHV4-F</td>\n",
       "      <td>1</td>\n",
       "      <td>441</td>\n",
       "    </tr>\n",
       "    <tr>\n",
       "      <th>296897</th>\n",
       "      <td>NNNNNNNNNNNNNNNNNNNNNNNGCCTCTGGATTCACCTTTAGCGG...</td>\n",
       "      <td>CHG-R</td>\n",
       "      <td>IGHV3-F</td>\n",
       "      <td>1</td>\n",
       "      <td>431</td>\n",
       "    </tr>\n",
       "    <tr>\n",
       "      <th>296898</th>\n",
       "      <td>NNNNNNNNNNNNNNNNNNNNNNNGCCTCTGGATTCACCTTTAGCAA...</td>\n",
       "      <td>CHG-R</td>\n",
       "      <td>IGHV3-F</td>\n",
       "      <td>1</td>\n",
       "      <td>434</td>\n",
       "    </tr>\n",
       "  </tbody>\n",
       "</table>\n",
       "<p>296899 rows × 5 columns</p>\n",
       "</div>"
      ],
      "text/plain": [
       "                                                 sequence C primer V primer  \\\n",
       "0       NNNNNNNNNNNNNNNNNNNNNNNNAGTGTCTCTGGTGGCTCCGTCA...    CHG-R  IGHV4-F   \n",
       "1       NNNNNNNNNNNNNNNNNNNNNNNNGACATCTACGTTGATTCTTTCA...    CHG-R  IGHV4-F   \n",
       "2       NNNNNNNNNNNNNNNNNNNNNNNNAGTGTCTCTGGTGCTTCCATCA...    CHG-R  IGHV4-F   \n",
       "3       NNNNNNNNNNNNNNNNNNNNNNNNGCTGTCTATGGTGGGTCCTTCA...    CHG-R  IGHV4-F   \n",
       "4       NNNNNNNNNNNNNNNNNNNNNNNNAATGTCTCTGGTGGCGCCATCA...    CHG-R  IGHV4-F   \n",
       "...                                                   ...      ...      ...   \n",
       "296894  NNNNNNNNNNNNNNNNNNNNNNNGCCTCTGGGTTCACCGTCAGTAG...    CHG-R  IGHV3-F   \n",
       "296895  NNNNNNNNNNNNNNNNNNNNNNNGCCTCTGGATTCACCTTCAGTAA...    CHG-R  IGHV3-F   \n",
       "296896  NNNNNNNNNNNNNNNNNNNNNNNNACTGTCTCTGGTGGCTCCATCA...    CHG-R  IGHV4-F   \n",
       "296897  NNNNNNNNNNNNNNNNNNNNNNNGCCTCTGGATTCACCTTTAGCGG...    CHG-R  IGHV3-F   \n",
       "296898  NNNNNNNNNNNNNNNNNNNNNNNGCCTCTGGATTCACCTTTAGCAA...    CHG-R  IGHV3-F   \n",
       "\n",
       "        abundance  length  \n",
       "0               1     420  \n",
       "1            1965     435  \n",
       "2               1     428  \n",
       "3            2037     459  \n",
       "4            2992     456  \n",
       "...           ...     ...  \n",
       "296894          1     428  \n",
       "296895          1     425  \n",
       "296896          1     441  \n",
       "296897          1     431  \n",
       "296898          1     434  \n",
       "\n",
       "[296899 rows x 5 columns]"
      ]
     },
     "execution_count": 4,
     "metadata": {},
     "output_type": "execute_result"
    }
   ],
   "source": [
    "fasta_dat = []\n",
    "for seq in parse(files[0], 'fasta'):\n",
    "    cprimer, vprimer, abundance = (x.split('=')[1] for x in seq.id.split('|')[1:])\n",
    "    fasta_dat.append([str(seq.seq), cprimer, vprimer, int(abundance)])\n",
    "df = pd.DataFrame(fasta_dat,\n",
    "                  columns=('sequence', 'C primer', 'V primer', 'abundance'))\n",
    "df['length'] = df.sequence.str.len()\n",
    "df"
   ]
  },
  {
   "cell_type": "markdown",
   "metadata": {},
   "source": [
    "Abundance distribution\n",
    "---"
   ]
  },
  {
   "cell_type": "code",
   "execution_count": 81,
   "metadata": {
    "scrolled": true
   },
   "outputs": [
    {
     "data": {
      "image/png": "[encoded data removed]",
      "text/plain": [
       "<Figure size 432x288 with 1 Axes>"
      ]
     },
     "metadata": {
      "needs_background": "light"
     },
     "output_type": "display_data"
    }
   ],
   "source": [
    "bins = np.logspace(0, np.log10(df.abundance.max()), 50)\n",
    "sns.distplot(df.abundance, kde=False, bins=bins)\n",
    "plt.xscale('log')\n",
    "plt.yscale('log')\n",
    "plt.show()"
   ]
  },
  {
   "cell_type": "markdown",
   "metadata": {},
   "source": [
    "V primer distribution\n",
    "---"
   ]
  },
  {
   "cell_type": "code",
   "execution_count": 82,
   "metadata": {
    "scrolled": true
   },
   "outputs": [
    {
     "data": {
      "image/png": "[encoded data removed]",
      "text/plain": [
       "<Figure size 432x288 with 1 Axes>"
      ]
     },
     "metadata": {
      "needs_background": "light"
     },
     "output_type": "display_data"
    }
   ],
   "source": [
    "sns.countplot(df['V primer'])\n",
    "plt.xticks(rotation='vertical')\n",
    "plt.ylabel('unique sequences')\n",
    "plt.show()"
   ]
  },
  {
   "cell_type": "markdown",
   "metadata": {},
   "source": [
    "Length distribution\n",
    "---"
   ]
  },
  {
   "cell_type": "code",
   "execution_count": 83,
   "metadata": {
    "scrolled": true
   },
   "outputs": [
    {
     "data": {
      "image/png": "[encoded data removed]",
      "text/plain": [
       "<Figure size 432x288 with 1 Axes>"
      ]
     },
     "metadata": {
      "needs_background": "light"
     },
     "output_type": "display_data"
    }
   ],
   "source": [
    "sns.distplot(df.length, kde=False, bins=np.logspace(0, np.log10(df.length.max()), 50))\n",
    "plt.xscale('log')\n",
    "plt.yscale('log')\n",
    "plt.show()"
   ]
  },
  {
   "cell_type": "markdown",
   "metadata": {},
   "source": [
    "Error correction based on Hamming distance and relative abundance\n",
    "---\n",
    "\n",
    "Function for computing a sparse distance matrix. The first level of sparsity is block diagonal by groups with common primers and sequence length. The second level is based on abundance ratio and hamming distance threshold."
   ]
  },
  {
   "cell_type": "code",
   "execution_count": 113,
   "metadata": {},
   "outputs": [],
   "source": [
    "def error_correct(df: pd.DataFrame,\n",
    "                  distance_threshold_per_decade: np.float32 = 1) -> Tuple[np.ndarray, np.ndarray]:\n",
    "    \"\"\"correct errors by clustering with sparse distance computations\"\"\"\n",
    "    df = df.sort_values(by=['V primer', 'C primer', 'length', 'abundance'],\n",
    "                        ascending=(True, True, False, False)).reset_index(drop=True)\n",
    "    assert len(df['C primer'].unique()) == 1\n",
    "    \n",
    "    parent_idxs = np.where(df.abundance >= 10 ** (1 / distance_threshold_per_decade))[0]\n",
    "\n",
    "    n_clustered = 0\n",
    "    \n",
    "    for ct, i in enumerate(parent_idxs, 1):\n",
    "        block_idxs = np.where(np.logical_and(df.length.values == df.length.values[i], df['V primer'].values == df['V primer'].values[i]))[0]\n",
    "        for j in reversed(block_idxs):\n",
    "            if j == i:\n",
    "                break\n",
    "            if df.abundance.values[i] == df.abundance.values[j] or df.abundance.values[i] == 0 or df.abundance.values[j] == 0:\n",
    "                continue\n",
    "            abundance_log_ratio = np.log10(df.abundance.values[i]) - np.log10(df.abundance.values[j])\n",
    "            if 1 / abundance_log_ratio > distance_threshold_per_decade:\n",
    "                break                \n",
    "            d = hamming_distance(df.sequence.values[i], df.sequence.values[j])\n",
    "            if d / abundance_log_ratio <= distance_threshold_per_decade:\n",
    "                df.abundance.values[i] += df.abundance.values[j]\n",
    "                df.abundance.values[j] = 0\n",
    "                n_clustered += 1\n",
    "        print(f'{ct / len(parent_idxs):.2%}, clustered {n_clustered}', end='    \\r', flush=True)\n",
    "    print()\n",
    "    \n",
    "    df = df[df.abundance > 0]\n",
    "\n",
    "    return df"
   ]
  },
  {
   "cell_type": "code",
   "execution_count": 129,
   "metadata": {},
   "outputs": [
    {
     "name": "stdout",
     "output_type": "stream",
     "text": [
      "100.00%, clustered 0                   \n"
     ]
    }
   ],
   "source": [
    "df_corrected = error_correct(df, distance_threshold_per_decade=1)\n",
    "df_corrected = error_correct(df_corrected, distance_threshold_per_decade=1)\n",
    "df_corrected = error_correct(df_corrected, distance_threshold_per_decade=1)"
   ]
  },
  {
   "cell_type": "code",
   "execution_count": 130,
   "metadata": {},
   "outputs": [
    {
     "data": {
      "text/html": [
       "<div>\n",
       "<style scoped>\n",
       "    .dataframe tbody tr th:only-of-type {\n",
       "        vertical-align: middle;\n",
       "    }\n",
       "\n",
       "    .dataframe tbody tr th {\n",
       "        vertical-align: top;\n",
       "    }\n",
       "\n",
       "    .dataframe thead th {\n",
       "        text-align: right;\n",
       "    }\n",
       "</style>\n",
       "<table border=\"1\" class=\"dataframe\">\n",
       "  <thead>\n",
       "    <tr style=\"text-align: right;\">\n",
       "      <th></th>\n",
       "      <th>sequence</th>\n",
       "      <th>C primer</th>\n",
       "      <th>V primer</th>\n",
       "      <th>abundance</th>\n",
       "      <th>length</th>\n",
       "    </tr>\n",
       "  </thead>\n",
       "  <tbody>\n",
       "    <tr>\n",
       "      <th>0</th>\n",
       "      <td>NNNNNNNNNNNNNNNNNNNNNNNNCCTCAGTGACGGTGTCGTGGAA...</td>\n",
       "      <td>CHG-R</td>\n",
       "      <td>IGHV1-F</td>\n",
       "      <td>1</td>\n",
       "      <td>537</td>\n",
       "    </tr>\n",
       "    <tr>\n",
       "      <th>1</th>\n",
       "      <td>NNNNNNNNNNNNNNNNNNNNNNNNCCTCAGTGACGGTGTCGTGGAA...</td>\n",
       "      <td>CHG-R</td>\n",
       "      <td>IGHV1-F</td>\n",
       "      <td>1</td>\n",
       "      <td>499</td>\n",
       "    </tr>\n",
       "    <tr>\n",
       "      <th>2</th>\n",
       "      <td>NNNNNNNNNNNNNNNNNNNNNNNNCCTCAGTGACGGTGTCGTGGAA...</td>\n",
       "      <td>CHG-R</td>\n",
       "      <td>IGHV1-F</td>\n",
       "      <td>1</td>\n",
       "      <td>492</td>\n",
       "    </tr>\n",
       "    <tr>\n",
       "      <th>3</th>\n",
       "      <td>NNNNNNNNNNNNNNNNNNNNNNNNCCTCAGTGACGGTGTCGTGGAA...</td>\n",
       "      <td>CHG-R</td>\n",
       "      <td>IGHV1-F</td>\n",
       "      <td>1</td>\n",
       "      <td>480</td>\n",
       "    </tr>\n",
       "    <tr>\n",
       "      <th>4</th>\n",
       "      <td>NNNNNNNNNNNNNNNNNNNNNNNNCCTCATTGACGGTGTCTTGGAA...</td>\n",
       "      <td>CHG-R</td>\n",
       "      <td>IGHV1-F</td>\n",
       "      <td>1</td>\n",
       "      <td>475</td>\n",
       "    </tr>\n",
       "    <tr>\n",
       "      <th>...</th>\n",
       "      <td>...</td>\n",
       "      <td>...</td>\n",
       "      <td>...</td>\n",
       "      <td>...</td>\n",
       "      <td>...</td>\n",
       "    </tr>\n",
       "    <tr>\n",
       "      <th>99899</th>\n",
       "      <td>NNNNNNNNNNNNNNNNNNNNNNNNACGGTGTCGTGGAACTCAGGCG...</td>\n",
       "      <td>CHG-R</td>\n",
       "      <td>IGHV6-F</td>\n",
       "      <td>1</td>\n",
       "      <td>348</td>\n",
       "    </tr>\n",
       "    <tr>\n",
       "      <th>99900</th>\n",
       "      <td>NNNNNNNNNNNNNNNNNNNNNNNNTCTCTCACAGTAACACTTTTAG...</td>\n",
       "      <td>CHG-R</td>\n",
       "      <td>IGHV6-F</td>\n",
       "      <td>1</td>\n",
       "      <td>312</td>\n",
       "    </tr>\n",
       "    <tr>\n",
       "      <th>99901</th>\n",
       "      <td>NNNNNNNNNNNNNNNNNNNNNNNNTCTCTCACAGTAACACTTTTAG...</td>\n",
       "      <td>CHG-R</td>\n",
       "      <td>IGHV6-F</td>\n",
       "      <td>1</td>\n",
       "      <td>312</td>\n",
       "    </tr>\n",
       "    <tr>\n",
       "      <th>99902</th>\n",
       "      <td>NNNNNNNNNNNNNNNNNNNNNNNNCCAAGAACGCACTGTATCTGCA...</td>\n",
       "      <td>CHG-R</td>\n",
       "      <td>IGHV6-F</td>\n",
       "      <td>1</td>\n",
       "      <td>293</td>\n",
       "    </tr>\n",
       "    <tr>\n",
       "      <th>99903</th>\n",
       "      <td>NNNNNNNNNNNNNNNNNNNNNNNNGCAAGATCACGCTTTACCTGCA...</td>\n",
       "      <td>CHG-R</td>\n",
       "      <td>IGHV6-F</td>\n",
       "      <td>1</td>\n",
       "      <td>281</td>\n",
       "    </tr>\n",
       "  </tbody>\n",
       "</table>\n",
       "<p>99904 rows × 5 columns</p>\n",
       "</div>"
      ],
      "text/plain": [
       "                                                sequence C primer V primer  \\\n",
       "0      NNNNNNNNNNNNNNNNNNNNNNNNCCTCAGTGACGGTGTCGTGGAA...    CHG-R  IGHV1-F   \n",
       "1      NNNNNNNNNNNNNNNNNNNNNNNNCCTCAGTGACGGTGTCGTGGAA...    CHG-R  IGHV1-F   \n",
       "2      NNNNNNNNNNNNNNNNNNNNNNNNCCTCAGTGACGGTGTCGTGGAA...    CHG-R  IGHV1-F   \n",
       "3      NNNNNNNNNNNNNNNNNNNNNNNNCCTCAGTGACGGTGTCGTGGAA...    CHG-R  IGHV1-F   \n",
       "4      NNNNNNNNNNNNNNNNNNNNNNNNCCTCATTGACGGTGTCTTGGAA...    CHG-R  IGHV1-F   \n",
       "...                                                  ...      ...      ...   \n",
       "99899  NNNNNNNNNNNNNNNNNNNNNNNNACGGTGTCGTGGAACTCAGGCG...    CHG-R  IGHV6-F   \n",
       "99900  NNNNNNNNNNNNNNNNNNNNNNNNTCTCTCACAGTAACACTTTTAG...    CHG-R  IGHV6-F   \n",
       "99901  NNNNNNNNNNNNNNNNNNNNNNNNTCTCTCACAGTAACACTTTTAG...    CHG-R  IGHV6-F   \n",
       "99902  NNNNNNNNNNNNNNNNNNNNNNNNCCAAGAACGCACTGTATCTGCA...    CHG-R  IGHV6-F   \n",
       "99903  NNNNNNNNNNNNNNNNNNNNNNNNGCAAGATCACGCTTTACCTGCA...    CHG-R  IGHV6-F   \n",
       "\n",
       "       abundance  length  \n",
       "0              1     537  \n",
       "1              1     499  \n",
       "2              1     492  \n",
       "3              1     480  \n",
       "4              1     475  \n",
       "...          ...     ...  \n",
       "99899          1     348  \n",
       "99900          1     312  \n",
       "99901          1     312  \n",
       "99902          1     293  \n",
       "99903          1     281  \n",
       "\n",
       "[99904 rows x 5 columns]"
      ]
     },
     "execution_count": 130,
     "metadata": {},
     "output_type": "execute_result"
    }
   ],
   "source": [
    "df_corrected"
   ]
  },
  {
   "cell_type": "markdown",
   "metadata": {},
   "source": [
    "Abundance distribution before and after error correction\n",
    "---"
   ]
  },
  {
   "cell_type": "code",
   "execution_count": 136,
   "metadata": {},
   "outputs": [
    {
     "name": "stdout",
     "output_type": "stream",
     "text": [
      "unique sequences before error correction: 296899\n",
      "unique sequences after error correction: 99904\n",
      "singleton composition before error correction: 41.66%\n",
      "singleton composition after error correction: 15.55%\n"
     ]
    },
    {
     "data": {
      "image/png": "[encoded data removed]",
      "text/plain": [
       "<Figure size 432x288 with 1 Axes>"
      ]
     },
     "metadata": {
      "needs_background": "light"
     },
     "output_type": "display_data"
    }
   ],
   "source": [
    "print(f'unique sequences before error correction: {len(df)}')\n",
    "print(f'unique sequences after error correction: {len(df_corrected)}')\n",
    "print(f'singleton composition before error correction: {df.abundance[df.abundance == 1].sum() / df.abundance.sum():.2%}')\n",
    "print(f'singleton composition after error correction: {df_corrected.abundance[df_corrected.abundance == 1].sum() / df_corrected.abundance.sum():.2%}')\n",
    "sns.distplot(df.abundance, kde=False, bins=bins, label='uncorrected')\n",
    "sns.distplot(df_corrected.abundance, kde=False, bins=bins, label='corrected')\n",
    "plt.xscale('log')\n",
    "plt.yscale('symlog')\n",
    "plt.legend()\n",
    "plt.show()"
   ]
  },
  {
   "cell_type": "code",
   "execution_count": 132,
   "metadata": {},
   "outputs": [],
   "source": [
    "def nearest_neighbor_distance(seq: str, seqs: np.ndarray) -> int:\n",
    "    d = np.inf\n",
    "    for ct, seq2 in enumerate(seqs, 1):\n",
    "        if len(seq) != len(seq2):\n",
    "            continue\n",
    "        d_new = hamming_distance(seq, seq2)\n",
    "        if 0 < d_new < d:\n",
    "            d = d_new\n",
    "    return d\n"
   ]
  },
  {
   "cell_type": "markdown",
   "metadata": {},
   "source": [
    "Nearest neighbor distances of singletons Vs doubletons ...\n",
    "---"
   ]
  },
  {
   "cell_type": "code",
   "execution_count": 133,
   "metadata": {},
   "outputs": [],
   "source": [
    "size = 1000"
   ]
  },
  {
   "cell_type": "code",
   "execution_count": 134,
   "metadata": {},
   "outputs": [
    {
     "data": {
      "image/png": "[encoded data removed]",
      "text/plain": [
       "<Figure size 432x288 with 2 Axes>"
      ]
     },
     "metadata": {
      "needs_background": "light"
     },
     "output_type": "display_data"
    }
   ],
   "source": [
    "plt.subplot(121, title='before error correction')\n",
    "plt.hist(np.array([[nearest_neighbor_distance(seq, df.sequence.values) for seq in np.random.choice(df.sequence[df.abundance == 1].values, size)],\n",
    "                   [nearest_neighbor_distance(seq, df.sequence.values) for seq in np.random.choice(df.sequence[df.abundance == 2].values, size)],\n",
    "                   [nearest_neighbor_distance(seq, df.sequence.values) for seq in np.random.choice(df.sequence[df.abundance == 3].values, size)]]).T,\n",
    "         bins=np.logspace(0, 2, 20), label=('singletons', 'doubletons', 'tripletons'))\n",
    "plt.xlabel('neighbor distance')\n",
    "plt.xscale('log')\n",
    "plt.legend()\n",
    "plt.subplot(122, title='after error correction')\n",
    "plt.hist(np.array([[nearest_neighbor_distance(seq, df_corrected.sequence.values) for seq in np.random.choice(df_corrected.sequence[df_corrected.abundance == 1].values, size)],\n",
    "                   [nearest_neighbor_distance(seq, df_corrected.sequence.values) for seq in np.random.choice(df_corrected.sequence[df_corrected.abundance == 2].values, size)],\n",
    "                   [nearest_neighbor_distance(seq, df_corrected.sequence.values) for seq in np.random.choice(df_corrected.sequence[df_corrected.abundance == 3].values, size)]]).T,\n",
    "         bins=np.logspace(0, 2, 20), label=('singletons', 'doubletons', 'tripletons'))\n",
    "plt.xlabel('neighbor distance')\n",
    "plt.xscale('log')\n",
    "plt.show()"
   ]
  },
  {
   "cell_type": "code",
   "execution_count": null,
   "metadata": {},
   "outputs": [],
   "source": []
  }
 ],
 "metadata": {
  "kernelspec": {
   "display_name": "Python 3",
   "language": "python",
   "name": "python3"
  },
  "language_info": {
   "codemirror_mode": {
    "name": "ipython",
    "version": 3
   },
   "file_extension": ".py",
   "mimetype": "text/x-python",
   "name": "python",
   "nbconvert_exporter": "python",
   "pygments_lexer": "ipython3",
   "version": "3.7.6"
  }
 },
 "nbformat": 4,
 "nbformat_minor": 4
}
