{
 "cells": [
  {
   "cell_type": "code",
   "execution_count": 1,
   "metadata": {},
   "outputs": [],
   "source": [
    "import numpy as np\n",
    "import matplotlib.pyplot as plt\n",
    "import seaborn as sns\n",
    "from typing import Tuple\n",
    "from jellyfish import hamming_distance\n",
    "\n",
    "from error_correct import fasta_parse, error_correct"
   ]
  },
  {
   "cell_type": "markdown",
   "metadata": {},
   "source": [
    "Prototyping error correction methods\n",
    "===\n",
    "\n",
    "Load sequence data\n",
    "---"
   ]
  },
  {
   "cell_type": "code",
   "execution_count": 2,
   "metadata": {},
   "outputs": [
    {
     "data": {
      "text/html": [
       "<div>\n",
       "<style scoped>\n",
       "    .dataframe tbody tr th:only-of-type {\n",
       "        vertical-align: middle;\n",
       "    }\n",
       "\n",
       "    .dataframe tbody tr th {\n",
       "        vertical-align: top;\n",
       "    }\n",
       "\n",
       "    .dataframe thead th {\n",
       "        text-align: right;\n",
       "    }\n",
       "</style>\n",
       "<table border=\"1\" class=\"dataframe\">\n",
       "  <thead>\n",
       "    <tr style=\"text-align: right;\">\n",
       "      <th></th>\n",
       "      <th>sequence</th>\n",
       "      <th>C primer</th>\n",
       "      <th>V primer</th>\n",
       "      <th>abundance</th>\n",
       "      <th>length</th>\n",
       "    </tr>\n",
       "  </thead>\n",
       "  <tbody>\n",
       "    <tr>\n",
       "      <th>0</th>\n",
       "      <td>NNNNNNNNNNNNNNNNNNNNNNNNAGTGTCTCTGGTGGCTCCGTCA...</td>\n",
       "      <td>CHG-R</td>\n",
       "      <td>IGHV4-F</td>\n",
       "      <td>1</td>\n",
       "      <td>420</td>\n",
       "    </tr>\n",
       "    <tr>\n",
       "      <th>1</th>\n",
       "      <td>NNNNNNNNNNNNNNNNNNNNNNNNGACATCTACGTTGATTCTTTCA...</td>\n",
       "      <td>CHG-R</td>\n",
       "      <td>IGHV4-F</td>\n",
       "      <td>1965</td>\n",
       "      <td>435</td>\n",
       "    </tr>\n",
       "    <tr>\n",
       "      <th>2</th>\n",
       "      <td>NNNNNNNNNNNNNNNNNNNNNNNNAGTGTCTCTGGTGCTTCCATCA...</td>\n",
       "      <td>CHG-R</td>\n",
       "      <td>IGHV4-F</td>\n",
       "      <td>1</td>\n",
       "      <td>428</td>\n",
       "    </tr>\n",
       "    <tr>\n",
       "      <th>3</th>\n",
       "      <td>NNNNNNNNNNNNNNNNNNNNNNNNGCTGTCTATGGTGGGTCCTTCA...</td>\n",
       "      <td>CHG-R</td>\n",
       "      <td>IGHV4-F</td>\n",
       "      <td>2037</td>\n",
       "      <td>459</td>\n",
       "    </tr>\n",
       "    <tr>\n",
       "      <th>4</th>\n",
       "      <td>NNNNNNNNNNNNNNNNNNNNNNNNAATGTCTCTGGTGGCGCCATCA...</td>\n",
       "      <td>CHG-R</td>\n",
       "      <td>IGHV4-F</td>\n",
       "      <td>2992</td>\n",
       "      <td>456</td>\n",
       "    </tr>\n",
       "    <tr>\n",
       "      <th>...</th>\n",
       "      <td>...</td>\n",
       "      <td>...</td>\n",
       "      <td>...</td>\n",
       "      <td>...</td>\n",
       "      <td>...</td>\n",
       "    </tr>\n",
       "    <tr>\n",
       "      <th>296894</th>\n",
       "      <td>NNNNNNNNNNNNNNNNNNNNNNNGCCTCTGGGTTCACCGTCAGTAG...</td>\n",
       "      <td>CHG-R</td>\n",
       "      <td>IGHV3-F</td>\n",
       "      <td>1</td>\n",
       "      <td>428</td>\n",
       "    </tr>\n",
       "    <tr>\n",
       "      <th>296895</th>\n",
       "      <td>NNNNNNNNNNNNNNNNNNNNNNNGCCTCTGGATTCACCTTCAGTAA...</td>\n",
       "      <td>CHG-R</td>\n",
       "      <td>IGHV3-F</td>\n",
       "      <td>1</td>\n",
       "      <td>425</td>\n",
       "    </tr>\n",
       "    <tr>\n",
       "      <th>296896</th>\n",
       "      <td>NNNNNNNNNNNNNNNNNNNNNNNNACTGTCTCTGGTGGCTCCATCA...</td>\n",
       "      <td>CHG-R</td>\n",
       "      <td>IGHV4-F</td>\n",
       "      <td>1</td>\n",
       "      <td>441</td>\n",
       "    </tr>\n",
       "    <tr>\n",
       "      <th>296897</th>\n",
       "      <td>NNNNNNNNNNNNNNNNNNNNNNNGCCTCTGGATTCACCTTTAGCGG...</td>\n",
       "      <td>CHG-R</td>\n",
       "      <td>IGHV3-F</td>\n",
       "      <td>1</td>\n",
       "      <td>431</td>\n",
       "    </tr>\n",
       "    <tr>\n",
       "      <th>296898</th>\n",
       "      <td>NNNNNNNNNNNNNNNNNNNNNNNGCCTCTGGATTCACCTTTAGCAA...</td>\n",
       "      <td>CHG-R</td>\n",
       "      <td>IGHV3-F</td>\n",
       "      <td>1</td>\n",
       "      <td>434</td>\n",
       "    </tr>\n",
       "  </tbody>\n",
       "</table>\n",
       "<p>296899 rows × 5 columns</p>\n",
       "</div>"
      ],
      "text/plain": [
       "                                                 sequence C primer V primer  \\\n",
       "0       NNNNNNNNNNNNNNNNNNNNNNNNAGTGTCTCTGGTGGCTCCGTCA...    CHG-R  IGHV4-F   \n",
       "1       NNNNNNNNNNNNNNNNNNNNNNNNGACATCTACGTTGATTCTTTCA...    CHG-R  IGHV4-F   \n",
       "2       NNNNNNNNNNNNNNNNNNNNNNNNAGTGTCTCTGGTGCTTCCATCA...    CHG-R  IGHV4-F   \n",
       "3       NNNNNNNNNNNNNNNNNNNNNNNNGCTGTCTATGGTGGGTCCTTCA...    CHG-R  IGHV4-F   \n",
       "4       NNNNNNNNNNNNNNNNNNNNNNNNAATGTCTCTGGTGGCGCCATCA...    CHG-R  IGHV4-F   \n",
       "...                                                   ...      ...      ...   \n",
       "296894  NNNNNNNNNNNNNNNNNNNNNNNGCCTCTGGGTTCACCGTCAGTAG...    CHG-R  IGHV3-F   \n",
       "296895  NNNNNNNNNNNNNNNNNNNNNNNGCCTCTGGATTCACCTTCAGTAA...    CHG-R  IGHV3-F   \n",
       "296896  NNNNNNNNNNNNNNNNNNNNNNNNACTGTCTCTGGTGGCTCCATCA...    CHG-R  IGHV4-F   \n",
       "296897  NNNNNNNNNNNNNNNNNNNNNNNGCCTCTGGATTCACCTTTAGCGG...    CHG-R  IGHV3-F   \n",
       "296898  NNNNNNNNNNNNNNNNNNNNNNNGCCTCTGGATTCACCTTTAGCAA...    CHG-R  IGHV3-F   \n",
       "\n",
       "        abundance  length  \n",
       "0               1     420  \n",
       "1            1965     435  \n",
       "2               1     428  \n",
       "3            2037     459  \n",
       "4            2992     456  \n",
       "...           ...     ...  \n",
       "296894          1     428  \n",
       "296895          1     425  \n",
       "296896          1     441  \n",
       "296897          1     431  \n",
       "296898          1     434  \n",
       "\n",
       "[296899 rows x 5 columns]"
      ]
     },
     "execution_count": 2,
     "metadata": {},
     "output_type": "execute_result"
    }
   ],
   "source": [
    "df = fasta_parse('/Users/williamdewitt/Downloads/S1_collapse-unique.fasta')\n",
    "df"
   ]
  },
  {
   "cell_type": "markdown",
   "metadata": {},
   "source": [
    "Abundance distribution\n",
    "---"
   ]
  },
  {
   "cell_type": "code",
   "execution_count": 3,
   "metadata": {
    "scrolled": true
   },
   "outputs": [
    {
     "data": {
      "image/png": "[encoded data removed]",
      "text/plain": [
       "<Figure size 432x288 with 1 Axes>"
      ]
     },
     "metadata": {
      "needs_background": "light"
     },
     "output_type": "display_data"
    }
   ],
   "source": [
    "bins = np.logspace(0, np.log10(df.abundance.max()), 50)\n",
    "sns.distplot(df.abundance, kde=False, bins=bins)\n",
    "plt.xscale('log')\n",
    "plt.yscale('log')\n",
    "plt.show()"
   ]
  },
  {
   "cell_type": "markdown",
   "metadata": {},
   "source": [
    "V primer distribution\n",
    "---"
   ]
  },
  {
   "cell_type": "code",
   "execution_count": 4,
   "metadata": {
    "scrolled": true
   },
   "outputs": [
    {
     "data": {
      "image/png": "[encoded data removed]",
      "text/plain": [
       "<Figure size 432x288 with 1 Axes>"
      ]
     },
     "metadata": {
      "needs_background": "light"
     },
     "output_type": "display_data"
    }
   ],
   "source": [
    "sns.countplot(df['V primer'])\n",
    "plt.xticks(rotation='vertical')\n",
    "plt.ylabel('unique sequences')\n",
    "plt.show()"
   ]
  },
  {
   "cell_type": "markdown",
   "metadata": {},
   "source": [
    "Length distribution\n",
    "---"
   ]
  },
  {
   "cell_type": "code",
   "execution_count": 5,
   "metadata": {
    "scrolled": true
   },
   "outputs": [
    {
     "data": {
      "image/png": "[encoded data removed]",
      "text/plain": [
       "<Figure size 432x288 with 1 Axes>"
      ]
     },
     "metadata": {
      "needs_background": "light"
     },
     "output_type": "display_data"
    }
   ],
   "source": [
    "sns.distplot(df.length, kde=False, bins=np.logspace(0, np.log10(df.length.max()), 50))\n",
    "plt.xscale('log')\n",
    "plt.yscale('log')\n",
    "plt.show()"
   ]
  },
  {
   "cell_type": "markdown",
   "metadata": {},
   "source": [
    "Error correction based on Hamming distance and relative abundance\n",
    "---\n",
    "\n",
    "Function for computing a sparse distance matrix. The first level of sparsity is block diagonal by groups with common primers and sequence length. The second level is based on abundance ratio and hamming distance threshold."
   ]
  },
  {
   "cell_type": "code",
   "execution_count": 6,
   "metadata": {},
   "outputs": [
    {
     "name": "stderr",
     "output_type": "stream",
     "text": [
      "62.17%, corrected 144195         \r"
     ]
    },
    {
     "ename": "KeyboardInterrupt",
     "evalue": "",
     "output_type": "error",
     "traceback": [
      "\u001b[0;31m---------------------------------------------------------------------------\u001b[0m",
      "\u001b[0;31mKeyboardInterrupt\u001b[0m                         Traceback (most recent call last)",
      "\u001b[0;32m<ipython-input-6-85f204611703>\u001b[0m in \u001b[0;36m<module>\u001b[0;34m\u001b[0m\n\u001b[0;32m----> 1\u001b[0;31m \u001b[0mdf_corrected\u001b[0m \u001b[0;34m=\u001b[0m \u001b[0merror_correct\u001b[0m\u001b[0;34m(\u001b[0m\u001b[0mdf\u001b[0m\u001b[0;34m,\u001b[0m \u001b[0mdelta_r\u001b[0m\u001b[0;34m=\u001b[0m\u001b[0;36m1\u001b[0m\u001b[0;34m)\u001b[0m\u001b[0;34m\u001b[0m\u001b[0;34m\u001b[0m\u001b[0m\n\u001b[0m\u001b[1;32m      2\u001b[0m \u001b[0mdf_corrected\u001b[0m \u001b[0;34m=\u001b[0m \u001b[0merror_correct\u001b[0m\u001b[0;34m(\u001b[0m\u001b[0mdf_corrected\u001b[0m\u001b[0;34m,\u001b[0m \u001b[0mdelta_r\u001b[0m\u001b[0;34m=\u001b[0m\u001b[0;36m1\u001b[0m\u001b[0;34m)\u001b[0m\u001b[0;34m\u001b[0m\u001b[0;34m\u001b[0m\u001b[0m\n\u001b[1;32m      3\u001b[0m \u001b[0mdf_corrected\u001b[0m \u001b[0;34m=\u001b[0m \u001b[0merror_correct\u001b[0m\u001b[0;34m(\u001b[0m\u001b[0mdf_corrected\u001b[0m\u001b[0;34m,\u001b[0m \u001b[0mdelta_r\u001b[0m\u001b[0;34m=\u001b[0m\u001b[0;36m1\u001b[0m\u001b[0;34m)\u001b[0m\u001b[0;34m\u001b[0m\u001b[0;34m\u001b[0m\u001b[0m\n",
      "\u001b[0;32m~/Desktop/repos.nosync/covid-bcr/error_correct.py\u001b[0m in \u001b[0;36merror_correct\u001b[0;34m(df, delta_r, remove_singletons)\u001b[0m\n\u001b[1;32m     69\u001b[0m             \u001b[0;32mif\u001b[0m \u001b[0mj\u001b[0m \u001b[0;34m==\u001b[0m \u001b[0mi\u001b[0m\u001b[0;34m:\u001b[0m\u001b[0;34m\u001b[0m\u001b[0;34m\u001b[0m\u001b[0m\n\u001b[1;32m     70\u001b[0m                 \u001b[0;32mbreak\u001b[0m\u001b[0;34m\u001b[0m\u001b[0;34m\u001b[0m\u001b[0m\n\u001b[0;32m---> 71\u001b[0;31m             if (df.abundance.values[i] == df.abundance.values[j]\n\u001b[0m\u001b[1;32m     72\u001b[0m                     \u001b[0;32mor\u001b[0m \u001b[0mdf\u001b[0m\u001b[0;34m.\u001b[0m\u001b[0mabundance\u001b[0m\u001b[0;34m.\u001b[0m\u001b[0mvalues\u001b[0m\u001b[0;34m[\u001b[0m\u001b[0mi\u001b[0m\u001b[0;34m]\u001b[0m \u001b[0;34m==\u001b[0m \u001b[0;36m0\u001b[0m\u001b[0;34m\u001b[0m\u001b[0;34m\u001b[0m\u001b[0m\n\u001b[1;32m     73\u001b[0m                     or df.abundance.values[j] == 0):\n",
      "\u001b[0;32m~/Applications/miniconda2/envs/covid-bcr/lib/python3.7/site-packages/pandas/core/generic.py\u001b[0m in \u001b[0;36m__getattr__\u001b[0;34m(self, name)\u001b[0m\n\u001b[1;32m   5271\u001b[0m         \u001b[0;32melse\u001b[0m\u001b[0;34m:\u001b[0m\u001b[0;34m\u001b[0m\u001b[0;34m\u001b[0m\u001b[0m\n\u001b[1;32m   5272\u001b[0m             \u001b[0;32mif\u001b[0m \u001b[0mself\u001b[0m\u001b[0;34m.\u001b[0m\u001b[0m_info_axis\u001b[0m\u001b[0;34m.\u001b[0m\u001b[0m_can_hold_identifiers_and_holds_name\u001b[0m\u001b[0;34m(\u001b[0m\u001b[0mname\u001b[0m\u001b[0;34m)\u001b[0m\u001b[0;34m:\u001b[0m\u001b[0;34m\u001b[0m\u001b[0;34m\u001b[0m\u001b[0m\n\u001b[0;32m-> 5273\u001b[0;31m                 \u001b[0;32mreturn\u001b[0m \u001b[0mself\u001b[0m\u001b[0;34m[\u001b[0m\u001b[0mname\u001b[0m\u001b[0;34m]\u001b[0m\u001b[0;34m\u001b[0m\u001b[0;34m\u001b[0m\u001b[0m\n\u001b[0m\u001b[1;32m   5274\u001b[0m             \u001b[0;32mreturn\u001b[0m \u001b[0mobject\u001b[0m\u001b[0;34m.\u001b[0m\u001b[0m__getattribute__\u001b[0m\u001b[0;34m(\u001b[0m\u001b[0mself\u001b[0m\u001b[0;34m,\u001b[0m \u001b[0mname\u001b[0m\u001b[0;34m)\u001b[0m\u001b[0;34m\u001b[0m\u001b[0;34m\u001b[0m\u001b[0m\n\u001b[1;32m   5275\u001b[0m \u001b[0;34m\u001b[0m\u001b[0m\n",
      "\u001b[0;32m~/Applications/miniconda2/envs/covid-bcr/lib/python3.7/site-packages/pandas/core/frame.py\u001b[0m in \u001b[0;36m__getitem__\u001b[0;34m(self, key)\u001b[0m\n\u001b[1;32m   2765\u001b[0m             \u001b[0;32mreturn\u001b[0m \u001b[0mresult\u001b[0m\u001b[0;34m\u001b[0m\u001b[0;34m\u001b[0m\u001b[0m\n\u001b[1;32m   2766\u001b[0m \u001b[0;34m\u001b[0m\u001b[0m\n\u001b[0;32m-> 2767\u001b[0;31m     \u001b[0;32mdef\u001b[0m \u001b[0m__getitem__\u001b[0m\u001b[0;34m(\u001b[0m\u001b[0mself\u001b[0m\u001b[0;34m,\u001b[0m \u001b[0mkey\u001b[0m\u001b[0;34m)\u001b[0m\u001b[0;34m:\u001b[0m\u001b[0;34m\u001b[0m\u001b[0;34m\u001b[0m\u001b[0m\n\u001b[0m\u001b[1;32m   2768\u001b[0m         \u001b[0mkey\u001b[0m \u001b[0;34m=\u001b[0m \u001b[0mlib\u001b[0m\u001b[0;34m.\u001b[0m\u001b[0mitem_from_zerodim\u001b[0m\u001b[0;34m(\u001b[0m\u001b[0mkey\u001b[0m\u001b[0;34m)\u001b[0m\u001b[0;34m\u001b[0m\u001b[0;34m\u001b[0m\u001b[0m\n\u001b[1;32m   2769\u001b[0m         \u001b[0mkey\u001b[0m \u001b[0;34m=\u001b[0m \u001b[0mcom\u001b[0m\u001b[0;34m.\u001b[0m\u001b[0mapply_if_callable\u001b[0m\u001b[0;34m(\u001b[0m\u001b[0mkey\u001b[0m\u001b[0;34m,\u001b[0m \u001b[0mself\u001b[0m\u001b[0;34m)\u001b[0m\u001b[0;34m\u001b[0m\u001b[0;34m\u001b[0m\u001b[0m\n",
      "\u001b[0;31mKeyboardInterrupt\u001b[0m: "
     ]
    }
   ],
   "source": [
    "df_corrected = error_correct(df, delta_r=1)\n",
    "df_corrected = error_correct(df_corrected, delta_r=1)\n",
    "df_corrected = error_correct(df_corrected, delta_r=1)"
   ]
  },
  {
   "cell_type": "code",
   "execution_count": null,
   "metadata": {},
   "outputs": [],
   "source": [
    "df_corrected"
   ]
  },
  {
   "cell_type": "markdown",
   "metadata": {},
   "source": [
    "Abundance distribution before and after error correction\n",
    "---"
   ]
  },
  {
   "cell_type": "code",
   "execution_count": null,
   "metadata": {},
   "outputs": [],
   "source": [
    "print(f'unique sequences before error correction: {len(df)}')\n",
    "print(f'unique sequences after error correction: {len(df_corrected)}')\n",
    "print(f'singleton number before error correction: {df.abundance[df.abundance == 1].sum()}')\n",
    "print(f'singleton number after error correction: {df_corrected.abundance[df_corrected.abundance == 1].sum()}')\n",
    "print(f'singleton composition before error correction: {df.abundance[df.abundance == 1].sum() / df.abundance.sum():.2%}')\n",
    "print(f'singleton composition after error correction: {df_corrected.abundance[df_corrected.abundance == 1].sum() / df_corrected.abundance.sum():.2%}')\n",
    "sns.distplot(df.abundance, kde=False, bins=bins, label='uncorrected')\n",
    "sns.distplot(df_corrected.abundance, kde=False, bins=bins, label='corrected')\n",
    "plt.xscale('log')\n",
    "plt.yscale('symlog')\n",
    "plt.legend()\n",
    "plt.show()"
   ]
  },
  {
   "cell_type": "code",
   "execution_count": null,
   "metadata": {},
   "outputs": [],
   "source": [
    "def nearest_neighbor_distance(seq: str, seqs: np.ndarray) -> int:\n",
    "    d = np.inf\n",
    "    for ct, seq2 in enumerate(seqs, 1):\n",
    "        if len(seq) != len(seq2):\n",
    "            continue\n",
    "        d_new = hamming_distance(seq, seq2)\n",
    "        if 0 < d_new < d:\n",
    "            d = d_new\n",
    "    return d\n"
   ]
  },
  {
   "cell_type": "markdown",
   "metadata": {},
   "source": [
    "Nearest neighbor distances of singletons Vs doubletons ...\n",
    "---"
   ]
  },
  {
   "cell_type": "code",
   "execution_count": null,
   "metadata": {},
   "outputs": [],
   "source": [
    "size = 1000"
   ]
  },
  {
   "cell_type": "code",
   "execution_count": null,
   "metadata": {},
   "outputs": [],
   "source": [
    "plt.subplot(121, title='before error correction')\n",
    "plt.hist(np.array([[nearest_neighbor_distance(seq, df.sequence.values) for seq in np.random.choice(df.sequence[df.abundance == 1].values, size)],\n",
    "                   [nearest_neighbor_distance(seq, df.sequence.values) for seq in np.random.choice(df.sequence[df.abundance == 2].values, size)],\n",
    "                   [nearest_neighbor_distance(seq, df.sequence.values) for seq in np.random.choice(df.sequence[df.abundance == 3].values, size)]]).T,\n",
    "         bins=np.logspace(0, 2, 20), label=('singletons', 'doubletons', 'tripletons'))\n",
    "plt.xlabel('neighbor distance')\n",
    "plt.xscale('log')\n",
    "plt.legend()\n",
    "plt.subplot(122, title='after error correction')\n",
    "plt.hist(np.array([[nearest_neighbor_distance(seq, df_corrected.sequence.values) for seq in np.random.choice(df_corrected.sequence[df_corrected.abundance == 1].values, size)],\n",
    "                   [nearest_neighbor_distance(seq, df_corrected.sequence.values) for seq in np.random.choice(df_corrected.sequence[df_corrected.abundance == 2].values, size)],\n",
    "                   [nearest_neighbor_distance(seq, df_corrected.sequence.values) for seq in np.random.choice(df_corrected.sequence[df_corrected.abundance == 3].values, size)]]).T,\n",
    "         bins=np.logspace(0, 2, 20), label=('singletons', 'doubletons', 'tripletons'))\n",
    "plt.xlabel('neighbor distance')\n",
    "plt.xscale('log')\n",
    "plt.show()"
   ]
  },
  {
   "cell_type": "code",
   "execution_count": null,
   "metadata": {},
   "outputs": [],
   "source": []
  }
 ],
 "metadata": {
  "kernelspec": {
   "display_name": "Python 3",
   "language": "python",
   "name": "python3"
  },
  "language_info": {
   "codemirror_mode": {
    "name": "ipython",
    "version": 3
   },
   "file_extension": ".py",
   "mimetype": "text/x-python",
   "name": "python",
   "nbconvert_exporter": "python",
   "pygments_lexer": "ipython3",
   "version": "3.7.6"
  }
 },
 "nbformat": 4,
 "nbformat_minor": 4
}
